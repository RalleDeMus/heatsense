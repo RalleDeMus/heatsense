{
 "cells": [
  {
   "cell_type": "code",
   "execution_count": 42,
   "metadata": {},
   "outputs": [],
   "source": [
    "import datetime\n",
    "import random\n",
    "import json\n",
    "import numpy as np \n",
    "#import seaborn as sns\n",
    "import matplotlib.pyplot as plt"
   ]
  },
  {
   "cell_type": "code",
   "execution_count": 13,
   "metadata": {},
   "outputs": [],
   "source": [
    "\"\"\" class FakeHeartRateMonitor():\n",
    "    def __init__(self):\n",
    "        self.prev_hr = 60\n",
    "        self.time_now = datetime.datetime.now()\n",
    "\n",
    "    def get_heart_rate(self):\n",
    "        change = random.randint(-2, 2)\n",
    "        if random.random() < 0.1:  \n",
    "            change += random.randint(-70, 70)\n",
    "\n",
    "        new_rate = min(max(self.prev_hr + change, 40), 160)\n",
    "        \n",
    "        self.time_now = self.time_now + datetime.timedelta(seconds=1)\n",
    "        return [new_rate, datetime.datetime.timestamp(self.time_now)]\n",
    "    \n",
    "monitor = FakeHeartRateMonitor() \"\"\"\n"
   ]
  },
  {
   "cell_type": "code",
   "execution_count": 78,
   "metadata": {},
   "outputs": [
    {
     "name": "stdout",
     "output_type": "stream",
     "text": [
      "[{'timestamp': 1705501448300, 'hr': 156}, {'timestamp': 1705501448685, 'hr': 158}, {'timestamp': 1705501449513, 'hr': 72}, {'timestamp': 1705501449717, 'temp': 33.5}, {'timestamp': 1705501450392, 'hr': 71}, {'timestamp': 1705501451228, 'hr': 71}, {'timestamp': 1705501451610, 'temp': 33.5}, {'timestamp': 1705501452103, 'hr': 70}, {'timestamp': 1705501452969, 'hr': 69}, {'timestamp': 1705501453612, 'temp': 33.5}, {'timestamp': 1705501453854, 'hr': 69}, {'timestamp': 1705501454686, 'hr': 70}, {'timestamp': 1705501455508, 'hr': 71}, {'timestamp': 1705501455605, 'temp': 33.5}, {'timestamp': 1705501456291, 'hr': 72}, {'timestamp': 1705501457068, 'hr': 74}, {'timestamp': 1705501457610, 'temp': 33.5}, {'timestamp': 1705501457849, 'hr': 75}, {'timestamp': 1705501458584, 'hr': 76}, {'timestamp': 1705501459267, 'hr': 77}, {'timestamp': 1705501459607, 'temp': 33.5}, {'timestamp': 1705501459945, 'hr': 78}, {'timestamp': 1705501460579, 'hr': 80}, {'timestamp': 1705501461259, 'hr': 82}, {'timestamp': 1705501461605, 'temp': 33.5}, {'timestamp': 1705501461947, 'hr': 83}, {'timestamp': 1705501462626, 'hr': 85}, {'timestamp': 1705501463362, 'hr': 84}, {'timestamp': 1705501463605, 'temp': 33.5}, {'timestamp': 1705501464141, 'hr': 84}, {'timestamp': 1705501464921, 'hr': 83}, {'timestamp': 1705501465601, 'temp': 33.5}, {'timestamp': 1705501465744, 'hr': 81}, {'timestamp': 1705501466576, 'hr': 79}, {'timestamp': 1705501467357, 'hr': 78}, {'timestamp': 1705501467603, 'temp': 33.5}, {'timestamp': 1705501468186, 'hr': 76}, {'timestamp': 1705501468959, 'hr': 76}, {'timestamp': 1705501469596, 'temp': 33.5}, {'timestamp': 1705501469694, 'hr': 77}, {'timestamp': 1705501470475, 'hr': 78}, {'timestamp': 1705501471256, 'hr': 77}, {'timestamp': 1705501471597, 'temp': 33.5}, {'timestamp': 1705501472184, 'hr': 77}, {'timestamp': 1705501473064, 'hr': 76}, {'timestamp': 1705501473599, 'temp': 33.5}, {'timestamp': 1705501473888, 'hr': 74}, {'timestamp': 1705501474626, 'hr': 75}, {'timestamp': 1705501475402, 'hr': 76}, {'timestamp': 1705501475597, 'temp': 33.5}, {'timestamp': 1705501476133, 'hr': 77}, {'timestamp': 1705501476821, 'hr': 78}, {'timestamp': 1705501477496, 'hr': 80}, {'timestamp': 1705501477596, 'temp': 33.5}, {'timestamp': 1705501478231, 'hr': 81}, {'timestamp': 1705501479006, 'hr': 80}, {'timestamp': 1705501479595, 'temp': 33.5}, {'timestamp': 1705501479687, 'hr': 82}, {'timestamp': 1705501480475, 'hr': 80}, {'timestamp': 1705501481252, 'hr': 79}, {'timestamp': 1705501481596, 'temp': 33.5}, {'timestamp': 1705501482076, 'hr': 78}, {'timestamp': 1705501482908, 'hr': 76}, {'timestamp': 1705501483594, 'temp': 33.5}, {'timestamp': 1705501483637, 'hr': 78}, {'timestamp': 1705501484418, 'hr': 78}, {'timestamp': 1705501485201, 'hr': 77}, {'timestamp': 1705501485589, 'temp': 33.5}, {'timestamp': 1705501485977, 'hr': 78}, {'timestamp': 1705501486762, 'hr': 76}, {'timestamp': 1705501487638, 'temp': 33.5}, {'timestamp': 1705501487639, 'hr': 75}, {'timestamp': 1705501488418, 'hr': 74}, {'timestamp': 1705501489199, 'hr': 75}, {'timestamp': 1705501489829, 'hr': 75}, {'timestamp': 1705501489880, 'temp': 33.5}, {'timestamp': 1705501490851, 'hr': 75}, {'timestamp': 1705501491644, 'temp': 33.5}, {'timestamp': 1705501491733, 'hr': 73}, {'timestamp': 1705501492660, 'hr': 71}, {'timestamp': 1705501493385, 'hr': 72}, {'timestamp': 1705501493587, 'temp': 33.5}, {'timestamp': 1705501494266, 'hr': 72}, {'timestamp': 1705501495105, 'hr': 71}, {'timestamp': 1705501495580, 'temp': 33.5}, {'timestamp': 1705501495923, 'hr': 71}, {'timestamp': 1705501496753, 'hr': 71}, {'timestamp': 1705501497583, 'temp': 33.5}, {'timestamp': 1705501497587, 'hr': 72}, {'timestamp': 1705501498377, 'hr': 74}, {'timestamp': 1705501499140, 'hr': 74}, {'timestamp': 1705501499583, 'temp': 33.5}, {'timestamp': 1705501499922, 'hr': 74}, {'timestamp': 1705501500699, 'hr': 75}, {'timestamp': 1705501501584, 'temp': 33.5}, {'timestamp': 1705501501591, 'hr': 75}, {'timestamp': 1705501502363, 'hr': 74}, {'timestamp': 1705501503134, 'hr': 76}, {'timestamp': 1705501503581, 'temp': 33.6}, {'timestamp': 1705501503922, 'hr': 76}, {'timestamp': 1705501504723, 'hr': 76}, {'timestamp': 1705501505433, 'hr': 78}, {'timestamp': 1705501505576, 'temp': 33.5}, {'timestamp': 1705501506161, 'hr': 78}, {'timestamp': 1705501506939, 'hr': 77}, {'timestamp': 1705501507580, 'temp': 33.6}, {'timestamp': 1705501507819, 'hr': 75}, {'timestamp': 1705501508607, 'hr': 74}, {'timestamp': 1705501509429, 'hr': 74}, {'timestamp': 1705501509575, 'temp': 33.6}, {'timestamp': 1705501510255, 'hr': 73}, {'timestamp': 1705501511144, 'hr': 73}, {'timestamp': 1705501511580, 'temp': 33.6}, {'timestamp': 1705501511869, 'hr': 74}, {'timestamp': 1705501512646, 'hr': 75}, {'timestamp': 1705501513428, 'hr': 76}, {'timestamp': 1705501513618, 'temp': 33.6}, {'timestamp': 1705501514259, 'hr': 75}, {'timestamp': 1705501515088, 'hr': 74}, {'timestamp': 1705501515620, 'temp': 33.6}, {'timestamp': 1705501515867, 'hr': 75}, {'timestamp': 1705501516693, 'hr': 74}, {'timestamp': 1705501517525, 'hr': 73}, {'timestamp': 1705501517622, 'temp': 33.6}, {'timestamp': 1705501518304, 'hr': 73}, {'timestamp': 1705501519180, 'hr': 73}, {'timestamp': 1705501519622, 'temp': 33.6}, {'timestamp': 1705501520001, 'hr': 73}, {'timestamp': 1705501520791, 'hr': 72}, {'timestamp': 1705501521618, 'temp': 33.6}, {'timestamp': 1705501521621, 'hr': 73}, {'timestamp': 1705501522398, 'hr': 73}, {'timestamp': 1705501523222, 'hr': 73}, {'timestamp': 1705501523620, 'temp': 33.6}, {'timestamp': 1705501524010, 'hr': 74}, {'timestamp': 1705501524787, 'hr': 75}, {'timestamp': 1705501525416, 'hr': 75}, {'timestamp': 1705501525610, 'temp': 33.6}, {'timestamp': 1705501526444, 'hr': 75}, {'timestamp': 1705501527276, 'hr': 73}, {'timestamp': 1705501527616, 'temp': 33.6}, {'timestamp': 1705501528102, 'hr': 73}, {'timestamp': 1705501528828, 'hr': 75}, {'timestamp': 1705501529616, 'temp': 33.6}, {'timestamp': 1705501529621, 'hr': 76}, {'timestamp': 1705501530552, 'hr': 76}, {'timestamp': 1705501531172, 'hr': 78}, {'timestamp': 1705501531617, 'temp': 33.6}, {'timestamp': 1705501531901, 'hr': 78}, {'timestamp': 1705501532640, 'hr': 79}, {'timestamp': 1705501533419, 'hr': 78}, {'timestamp': 1705501533607, 'temp': 33.6}, {'timestamp': 1705501534194, 'hr': 78}, {'timestamp': 1705501534970, 'hr': 78}, {'timestamp': 1705501535659, 'temp': 33.6}, {'timestamp': 1705501535704, 'hr': 78}, {'timestamp': 1705501536491, 'hr': 79}, {'timestamp': 1705501537220, 'hr': 79}, {'timestamp': 1705501537610, 'temp': 33.6}, {'timestamp': 1705501538000, 'hr': 79}, {'timestamp': 1705501538676, 'hr': 81}, {'timestamp': 1705501539456, 'hr': 80}, {'timestamp': 1705501539663, 'temp': 33.6}, {'timestamp': 1705501540185, 'hr': 79}, {'timestamp': 1705501540967, 'hr': 79}, {'timestamp': 1705501541603, 'temp': 33.6}, {'timestamp': 1705501541703, 'hr': 80}, {'timestamp': 1705501542380, 'hr': 82}, {'timestamp': 1705501543066, 'hr': 83}, {'timestamp': 1705501543600, 'temp': 33.6}, {'timestamp': 1705501543696, 'hr': 84}, {'timestamp': 1705501544387, 'hr': 85}, {'timestamp': 1705501545012, 'hr': 86}, {'timestamp': 1705501545602, 'temp': 33.6}, {'timestamp': 1705501545892, 'hr': 86}, {'timestamp': 1705501546717, 'hr': 85}, {'timestamp': 1705501547498, 'hr': 83}, {'timestamp': 1705501547659, 'temp': 33.6}, {'timestamp': 1705501548240, 'hr': 83}, {'timestamp': 1705501549018, 'hr': 82}, {'timestamp': 1705501549599, 'temp': 33.6}, {'timestamp': 1705501549791, 'hr': 80}, {'timestamp': 1705501550575, 'hr': 78}, {'timestamp': 1705501551403, 'hr': 77}, {'timestamp': 1705501551601, 'temp': 33.6}, {'timestamp': 1705501552187, 'hr': 77}, {'timestamp': 1705501552904, 'hr': 78}, {'timestamp': 1705501553598, 'temp': 33.6}, {'timestamp': 1705501553697, 'hr': 78}, {'timestamp': 1705501554477, 'hr': 77}, {'timestamp': 1705501555296, 'hr': 75}, {'timestamp': 1705501555592, 'temp': 33.6}, {'timestamp': 1705501556131, 'hr': 75}, {'timestamp': 1705501556957, 'hr': 74}, {'timestamp': 1705501557595, 'temp': 33.6}, {'timestamp': 1705501557790, 'hr': 73}, {'timestamp': 1705501558619, 'hr': 72}, {'timestamp': 1705501559446, 'hr': 72}, {'timestamp': 1705501559595, 'temp': 33.6}, {'timestamp': 1705501560322, 'hr': 72}, {'timestamp': 1705501561106, 'hr': 73}, {'timestamp': 1705501561597, 'temp': 33.6}, {'timestamp': 1705501561832, 'hr': 75}, {'timestamp': 1705501562615, 'hr': 76}, {'timestamp': 1705501563395, 'hr': 76}, {'timestamp': 1705501563593, 'temp': 33.6}, {'timestamp': 1705501564176, 'hr': 77}, {'timestamp': 1705501564954, 'hr': 76}, {'timestamp': 1705501565639, 'temp': 33.6}, {'timestamp': 1705501565640, 'hr': 76}, {'timestamp': 1705501566615, 'hr': 76}, {'timestamp': 1705501567486, 'hr': 74}, {'timestamp': 1705501567585, 'temp': 33.6}, {'timestamp': 1705501568321, 'hr': 73}, {'timestamp': 1705501569147, 'hr': 73}, {'timestamp': 1705501569588, 'temp': 33.6}, {'timestamp': 1705501569979, 'hr': 72}, {'timestamp': 1705501570804, 'hr': 73}, {'timestamp': 1705501571588, 'temp': 33.6}, {'timestamp': 1705501571679, 'hr': 71}, {'timestamp': 1705501572562, 'hr': 69}, {'timestamp': 1705501573444, 'hr': 69}, {'timestamp': 1705501573582, 'temp': 33.6}, {'timestamp': 1705501574309, 'hr': 69}, {'timestamp': 1705501575190, 'hr': 70}, {'timestamp': 1705501575815, 'temp': 33.6}, {'timestamp': 1705501575920, 'hr': 71}, {'timestamp': 1705501576655, 'hr': 72}, {'timestamp': 1705501577436, 'hr': 73}, {'timestamp': 1705501577585, 'temp': 33.6}, {'timestamp': 1705501578176, 'hr': 75}, {'timestamp': 1705501578900, 'hr': 77}, {'timestamp': 1705501579589, 'temp': 33.6}, {'timestamp': 1705501579622, 'hr': 80}, {'timestamp': 1705501580311, 'hr': 82}, {'timestamp': 1705501581041, 'hr': 83}, {'timestamp': 1705501581583, 'temp': 33.6}, {'timestamp': 1705501581727, 'hr': 83}, {'timestamp': 1705501582412, 'hr': 85}, {'timestamp': 1705501583139, 'hr': 84}, {'timestamp': 1705501583628, 'temp': 33.6}, {'timestamp': 1705501583867, 'hr': 83}]\n"
     ]
    }
   ],
   "source": [
    "with open('HeatSense_data.json', 'r') as openfile:\n",
    "    data = json.load(openfile)\n",
    "    \n",
    "print(data['stores'][0]['values'])\n",
    "\n",
    "hrs = data['stores'][0]['values']\n",
    "\n"
   ]
  },
  {
   "cell_type": "code",
   "execution_count": 79,
   "metadata": {},
   "outputs": [],
   "source": [
    "heartlist = []\n",
    "templist = []\n",
    "\n",
    "for l in hrs:\n",
    "    if 'temp' in l.keys():\n",
    "        templist.append(l)\n",
    "    elif 'hr' in l.keys():\n",
    "        heartlist.append(l)\n",
    "    \n"
   ]
  },
  {
   "cell_type": "markdown",
   "metadata": {},
   "source": []
  },
  {
   "cell_type": "code",
   "execution_count": 80,
   "metadata": {},
   "outputs": [
    {
     "data": {
      "text/plain": [
       "[{'timestamp': 1705501448300, 'hr': 156},\n",
       " {'timestamp': 1705501448685, 'hr': 158},\n",
       " {'timestamp': 1705501449513, 'hr': 72},\n",
       " {'timestamp': 1705501450392, 'hr': 71},\n",
       " {'timestamp': 1705501451228, 'hr': 71},\n",
       " {'timestamp': 1705501452103, 'hr': 70},\n",
       " {'timestamp': 1705501452969, 'hr': 69},\n",
       " {'timestamp': 1705501453854, 'hr': 69},\n",
       " {'timestamp': 1705501454686, 'hr': 70},\n",
       " {'timestamp': 1705501455508, 'hr': 71},\n",
       " {'timestamp': 1705501456291, 'hr': 72},\n",
       " {'timestamp': 1705501457068, 'hr': 74},\n",
       " {'timestamp': 1705501457849, 'hr': 75},\n",
       " {'timestamp': 1705501458584, 'hr': 76},\n",
       " {'timestamp': 1705501459267, 'hr': 77},\n",
       " {'timestamp': 1705501459945, 'hr': 78},\n",
       " {'timestamp': 1705501460579, 'hr': 80},\n",
       " {'timestamp': 1705501461259, 'hr': 82},\n",
       " {'timestamp': 1705501461947, 'hr': 83},\n",
       " {'timestamp': 1705501462626, 'hr': 85},\n",
       " {'timestamp': 1705501463362, 'hr': 84},\n",
       " {'timestamp': 1705501464141, 'hr': 84},\n",
       " {'timestamp': 1705501464921, 'hr': 83},\n",
       " {'timestamp': 1705501465744, 'hr': 81},\n",
       " {'timestamp': 1705501466576, 'hr': 79},\n",
       " {'timestamp': 1705501467357, 'hr': 78},\n",
       " {'timestamp': 1705501468186, 'hr': 76},\n",
       " {'timestamp': 1705501468959, 'hr': 76},\n",
       " {'timestamp': 1705501469694, 'hr': 77},\n",
       " {'timestamp': 1705501470475, 'hr': 78},\n",
       " {'timestamp': 1705501471256, 'hr': 77},\n",
       " {'timestamp': 1705501472184, 'hr': 77},\n",
       " {'timestamp': 1705501473064, 'hr': 76},\n",
       " {'timestamp': 1705501473888, 'hr': 74},\n",
       " {'timestamp': 1705501474626, 'hr': 75},\n",
       " {'timestamp': 1705501475402, 'hr': 76},\n",
       " {'timestamp': 1705501476133, 'hr': 77},\n",
       " {'timestamp': 1705501476821, 'hr': 78},\n",
       " {'timestamp': 1705501477496, 'hr': 80},\n",
       " {'timestamp': 1705501478231, 'hr': 81},\n",
       " {'timestamp': 1705501479006, 'hr': 80},\n",
       " {'timestamp': 1705501479687, 'hr': 82},\n",
       " {'timestamp': 1705501480475, 'hr': 80},\n",
       " {'timestamp': 1705501481252, 'hr': 79},\n",
       " {'timestamp': 1705501482076, 'hr': 78},\n",
       " {'timestamp': 1705501482908, 'hr': 76},\n",
       " {'timestamp': 1705501483637, 'hr': 78},\n",
       " {'timestamp': 1705501484418, 'hr': 78},\n",
       " {'timestamp': 1705501485201, 'hr': 77},\n",
       " {'timestamp': 1705501485977, 'hr': 78},\n",
       " {'timestamp': 1705501486762, 'hr': 76},\n",
       " {'timestamp': 1705501487639, 'hr': 75},\n",
       " {'timestamp': 1705501488418, 'hr': 74},\n",
       " {'timestamp': 1705501489199, 'hr': 75},\n",
       " {'timestamp': 1705501489829, 'hr': 75},\n",
       " {'timestamp': 1705501490851, 'hr': 75},\n",
       " {'timestamp': 1705501491733, 'hr': 73},\n",
       " {'timestamp': 1705501492660, 'hr': 71},\n",
       " {'timestamp': 1705501493385, 'hr': 72},\n",
       " {'timestamp': 1705501494266, 'hr': 72},\n",
       " {'timestamp': 1705501495105, 'hr': 71},\n",
       " {'timestamp': 1705501495923, 'hr': 71},\n",
       " {'timestamp': 1705501496753, 'hr': 71},\n",
       " {'timestamp': 1705501497587, 'hr': 72},\n",
       " {'timestamp': 1705501498377, 'hr': 74},\n",
       " {'timestamp': 1705501499140, 'hr': 74},\n",
       " {'timestamp': 1705501499922, 'hr': 74},\n",
       " {'timestamp': 1705501500699, 'hr': 75},\n",
       " {'timestamp': 1705501501591, 'hr': 75},\n",
       " {'timestamp': 1705501502363, 'hr': 74},\n",
       " {'timestamp': 1705501503134, 'hr': 76},\n",
       " {'timestamp': 1705501503922, 'hr': 76},\n",
       " {'timestamp': 1705501504723, 'hr': 76},\n",
       " {'timestamp': 1705501505433, 'hr': 78},\n",
       " {'timestamp': 1705501506161, 'hr': 78},\n",
       " {'timestamp': 1705501506939, 'hr': 77},\n",
       " {'timestamp': 1705501507819, 'hr': 75},\n",
       " {'timestamp': 1705501508607, 'hr': 74},\n",
       " {'timestamp': 1705501509429, 'hr': 74},\n",
       " {'timestamp': 1705501510255, 'hr': 73},\n",
       " {'timestamp': 1705501511144, 'hr': 73},\n",
       " {'timestamp': 1705501511869, 'hr': 74},\n",
       " {'timestamp': 1705501512646, 'hr': 75},\n",
       " {'timestamp': 1705501513428, 'hr': 76},\n",
       " {'timestamp': 1705501514259, 'hr': 75},\n",
       " {'timestamp': 1705501515088, 'hr': 74},\n",
       " {'timestamp': 1705501515867, 'hr': 75},\n",
       " {'timestamp': 1705501516693, 'hr': 74},\n",
       " {'timestamp': 1705501517525, 'hr': 73},\n",
       " {'timestamp': 1705501518304, 'hr': 73},\n",
       " {'timestamp': 1705501519180, 'hr': 73},\n",
       " {'timestamp': 1705501520001, 'hr': 73},\n",
       " {'timestamp': 1705501520791, 'hr': 72},\n",
       " {'timestamp': 1705501521621, 'hr': 73},\n",
       " {'timestamp': 1705501522398, 'hr': 73},\n",
       " {'timestamp': 1705501523222, 'hr': 73},\n",
       " {'timestamp': 1705501524010, 'hr': 74},\n",
       " {'timestamp': 1705501524787, 'hr': 75},\n",
       " {'timestamp': 1705501525416, 'hr': 75},\n",
       " {'timestamp': 1705501526444, 'hr': 75},\n",
       " {'timestamp': 1705501527276, 'hr': 73},\n",
       " {'timestamp': 1705501528102, 'hr': 73},\n",
       " {'timestamp': 1705501528828, 'hr': 75},\n",
       " {'timestamp': 1705501529621, 'hr': 76},\n",
       " {'timestamp': 1705501530552, 'hr': 76},\n",
       " {'timestamp': 1705501531172, 'hr': 78},\n",
       " {'timestamp': 1705501531901, 'hr': 78},\n",
       " {'timestamp': 1705501532640, 'hr': 79},\n",
       " {'timestamp': 1705501533419, 'hr': 78},\n",
       " {'timestamp': 1705501534194, 'hr': 78},\n",
       " {'timestamp': 1705501534970, 'hr': 78},\n",
       " {'timestamp': 1705501535704, 'hr': 78},\n",
       " {'timestamp': 1705501536491, 'hr': 79},\n",
       " {'timestamp': 1705501537220, 'hr': 79},\n",
       " {'timestamp': 1705501538000, 'hr': 79},\n",
       " {'timestamp': 1705501538676, 'hr': 81},\n",
       " {'timestamp': 1705501539456, 'hr': 80},\n",
       " {'timestamp': 1705501540185, 'hr': 79},\n",
       " {'timestamp': 1705501540967, 'hr': 79},\n",
       " {'timestamp': 1705501541703, 'hr': 80},\n",
       " {'timestamp': 1705501542380, 'hr': 82},\n",
       " {'timestamp': 1705501543066, 'hr': 83},\n",
       " {'timestamp': 1705501543696, 'hr': 84},\n",
       " {'timestamp': 1705501544387, 'hr': 85},\n",
       " {'timestamp': 1705501545012, 'hr': 86},\n",
       " {'timestamp': 1705501545892, 'hr': 86},\n",
       " {'timestamp': 1705501546717, 'hr': 85},\n",
       " {'timestamp': 1705501547498, 'hr': 83},\n",
       " {'timestamp': 1705501548240, 'hr': 83},\n",
       " {'timestamp': 1705501549018, 'hr': 82},\n",
       " {'timestamp': 1705501549791, 'hr': 80},\n",
       " {'timestamp': 1705501550575, 'hr': 78},\n",
       " {'timestamp': 1705501551403, 'hr': 77},\n",
       " {'timestamp': 1705501552187, 'hr': 77},\n",
       " {'timestamp': 1705501552904, 'hr': 78},\n",
       " {'timestamp': 1705501553697, 'hr': 78},\n",
       " {'timestamp': 1705501554477, 'hr': 77},\n",
       " {'timestamp': 1705501555296, 'hr': 75},\n",
       " {'timestamp': 1705501556131, 'hr': 75},\n",
       " {'timestamp': 1705501556957, 'hr': 74},\n",
       " {'timestamp': 1705501557790, 'hr': 73},\n",
       " {'timestamp': 1705501558619, 'hr': 72},\n",
       " {'timestamp': 1705501559446, 'hr': 72},\n",
       " {'timestamp': 1705501560322, 'hr': 72},\n",
       " {'timestamp': 1705501561106, 'hr': 73},\n",
       " {'timestamp': 1705501561832, 'hr': 75},\n",
       " {'timestamp': 1705501562615, 'hr': 76},\n",
       " {'timestamp': 1705501563395, 'hr': 76},\n",
       " {'timestamp': 1705501564176, 'hr': 77},\n",
       " {'timestamp': 1705501564954, 'hr': 76},\n",
       " {'timestamp': 1705501565640, 'hr': 76},\n",
       " {'timestamp': 1705501566615, 'hr': 76},\n",
       " {'timestamp': 1705501567486, 'hr': 74},\n",
       " {'timestamp': 1705501568321, 'hr': 73},\n",
       " {'timestamp': 1705501569147, 'hr': 73},\n",
       " {'timestamp': 1705501569979, 'hr': 72},\n",
       " {'timestamp': 1705501570804, 'hr': 73},\n",
       " {'timestamp': 1705501571679, 'hr': 71},\n",
       " {'timestamp': 1705501572562, 'hr': 69},\n",
       " {'timestamp': 1705501573444, 'hr': 69},\n",
       " {'timestamp': 1705501574309, 'hr': 69},\n",
       " {'timestamp': 1705501575190, 'hr': 70},\n",
       " {'timestamp': 1705501575920, 'hr': 71},\n",
       " {'timestamp': 1705501576655, 'hr': 72},\n",
       " {'timestamp': 1705501577436, 'hr': 73},\n",
       " {'timestamp': 1705501578176, 'hr': 75},\n",
       " {'timestamp': 1705501578900, 'hr': 77},\n",
       " {'timestamp': 1705501579622, 'hr': 80},\n",
       " {'timestamp': 1705501580311, 'hr': 82},\n",
       " {'timestamp': 1705501581041, 'hr': 83},\n",
       " {'timestamp': 1705501581727, 'hr': 83},\n",
       " {'timestamp': 1705501582412, 'hr': 85},\n",
       " {'timestamp': 1705501583139, 'hr': 84},\n",
       " {'timestamp': 1705501583867, 'hr': 83}]"
      ]
     },
     "execution_count": 80,
     "metadata": {},
     "output_type": "execute_result"
    }
   ],
   "source": [
    "heartlist"
   ]
  },
  {
   "cell_type": "code",
   "execution_count": 81,
   "metadata": {},
   "outputs": [],
   "source": [
    "hrs = templist\n",
    "\n",
    "timstmps, heart_rates = np.expand_dims([x['timestamp'] for x in hrs], 1), np.expand_dims([x['temp'] for x in hrs], 1)"
   ]
  },
  {
   "cell_type": "code",
   "execution_count": 82,
   "metadata": {},
   "outputs": [
    {
     "data": {
      "text/plain": [
       "(68, 1)"
      ]
     },
     "execution_count": 82,
     "metadata": {},
     "output_type": "execute_result"
    }
   ],
   "source": [
    "timstmps.shape"
   ]
  },
  {
   "cell_type": "code",
   "execution_count": 83,
   "metadata": {},
   "outputs": [
    {
     "name": "stdout",
     "output_type": "stream",
     "text": [
      "(68, 2)\n"
     ]
    },
    {
     "data": {
      "text/plain": [
       "array([[3.35000000e+01, 1.70550145e+12],\n",
       "       [3.35000000e+01, 1.70550145e+12],\n",
       "       [3.35000000e+01, 1.70550145e+12],\n",
       "       [3.35000000e+01, 1.70550146e+12],\n",
       "       [3.35000000e+01, 1.70550146e+12],\n",
       "       [3.35000000e+01, 1.70550146e+12],\n",
       "       [3.35000000e+01, 1.70550146e+12],\n",
       "       [3.35000000e+01, 1.70550146e+12],\n",
       "       [3.35000000e+01, 1.70550147e+12],\n",
       "       [3.35000000e+01, 1.70550147e+12],\n",
       "       [3.35000000e+01, 1.70550147e+12],\n",
       "       [3.35000000e+01, 1.70550147e+12],\n",
       "       [3.35000000e+01, 1.70550147e+12],\n",
       "       [3.35000000e+01, 1.70550148e+12],\n",
       "       [3.35000000e+01, 1.70550148e+12],\n",
       "       [3.35000000e+01, 1.70550148e+12],\n",
       "       [3.35000000e+01, 1.70550148e+12],\n",
       "       [3.35000000e+01, 1.70550148e+12],\n",
       "       [3.35000000e+01, 1.70550149e+12],\n",
       "       [3.35000000e+01, 1.70550149e+12],\n",
       "       [3.35000000e+01, 1.70550149e+12],\n",
       "       [3.35000000e+01, 1.70550149e+12],\n",
       "       [3.35000000e+01, 1.70550149e+12],\n",
       "       [3.35000000e+01, 1.70550150e+12],\n",
       "       [3.35000000e+01, 1.70550150e+12],\n",
       "       [3.35000000e+01, 1.70550150e+12],\n",
       "       [3.35000000e+01, 1.70550150e+12],\n",
       "       [3.36000000e+01, 1.70550150e+12],\n",
       "       [3.35000000e+01, 1.70550151e+12],\n",
       "       [3.36000000e+01, 1.70550151e+12],\n",
       "       [3.36000000e+01, 1.70550151e+12],\n",
       "       [3.36000000e+01, 1.70550151e+12],\n",
       "       [3.36000000e+01, 1.70550151e+12],\n",
       "       [3.36000000e+01, 1.70550152e+12],\n",
       "       [3.36000000e+01, 1.70550152e+12],\n",
       "       [3.36000000e+01, 1.70550152e+12],\n",
       "       [3.36000000e+01, 1.70550152e+12],\n",
       "       [3.36000000e+01, 1.70550152e+12],\n",
       "       [3.36000000e+01, 1.70550153e+12],\n",
       "       [3.36000000e+01, 1.70550153e+12],\n",
       "       [3.36000000e+01, 1.70550153e+12],\n",
       "       [3.36000000e+01, 1.70550153e+12],\n",
       "       [3.36000000e+01, 1.70550153e+12],\n",
       "       [3.36000000e+01, 1.70550154e+12],\n",
       "       [3.36000000e+01, 1.70550154e+12],\n",
       "       [3.36000000e+01, 1.70550154e+12],\n",
       "       [3.36000000e+01, 1.70550154e+12],\n",
       "       [3.36000000e+01, 1.70550154e+12],\n",
       "       [3.36000000e+01, 1.70550155e+12],\n",
       "       [3.36000000e+01, 1.70550155e+12],\n",
       "       [3.36000000e+01, 1.70550155e+12],\n",
       "       [3.36000000e+01, 1.70550155e+12],\n",
       "       [3.36000000e+01, 1.70550155e+12],\n",
       "       [3.36000000e+01, 1.70550156e+12],\n",
       "       [3.36000000e+01, 1.70550156e+12],\n",
       "       [3.36000000e+01, 1.70550156e+12],\n",
       "       [3.36000000e+01, 1.70550156e+12],\n",
       "       [3.36000000e+01, 1.70550156e+12],\n",
       "       [3.36000000e+01, 1.70550157e+12],\n",
       "       [3.36000000e+01, 1.70550157e+12],\n",
       "       [3.36000000e+01, 1.70550157e+12],\n",
       "       [3.36000000e+01, 1.70550157e+12],\n",
       "       [3.36000000e+01, 1.70550157e+12],\n",
       "       [3.36000000e+01, 1.70550158e+12],\n",
       "       [3.36000000e+01, 1.70550158e+12],\n",
       "       [3.36000000e+01, 1.70550158e+12],\n",
       "       [3.36000000e+01, 1.70550158e+12],\n",
       "       [3.36000000e+01, 1.70550158e+12]])"
      ]
     },
     "execution_count": 83,
     "metadata": {},
     "output_type": "execute_result"
    }
   ],
   "source": [
    "hours = 12\n",
    "heart_rate_data = np.concatenate([heart_rates, timstmps], 1)\n",
    "\n",
    "\n",
    "print(heart_rate_data.shape)\n",
    "heart_rate_data"
   ]
  },
  {
   "cell_type": "code",
   "execution_count": 76,
   "metadata": {},
   "outputs": [
    {
     "data": {
      "text/plain": [
       "[]"
      ]
     },
     "execution_count": 76,
     "metadata": {},
     "output_type": "execute_result"
    }
   ],
   "source": [
    "window = 60 #seconds\n",
    "\n",
    "average_data = []\n",
    "for i in range(0, len(heart_rate_data) - window, window):\n",
    "    window_data = heart_rate_data[i : i+window, :]\n",
    "    avg_hr = np.mean(window_data[:, 0])\n",
    "    average_data.append([round(avg_hr, 1), window_data[:, 1][0]])\n",
    "\n",
    "heart_rate_data = average_data\n",
    "\n",
    "heart_rate_data"
   ]
  },
  {
   "cell_type": "markdown",
   "metadata": {},
   "source": [
    "## Line Plot"
   ]
  },
  {
   "cell_type": "code",
   "execution_count": 84,
   "metadata": {},
   "outputs": [
    {
     "data": {
      "image/png": "[encoded data removed]",
      "text/plain": [
       "<Figure size 3000x2000 with 1 Axes>"
      ]
     },
     "metadata": {},
     "output_type": "display_data"
    }
   ],
   "source": [
    "xaxis = [datetime.datetime.utcfromtimestamp(x/1000).strftime('%H:%M:%S') for x in np.array(heart_rate_data)[:,1]]\n",
    "yaxis = np.array(heart_rate_data)[:,0]\n",
    "\n",
    "plt.figure(figsize=(30, 20))\n",
    "plt.plot(xaxis, yaxis) \n",
    "#sns.lineplot(y = yaxis, x = xaxis,markers=True)\n",
    "\n",
    "plt.title('24 Hour Heart Rate Monitoring')\n",
    "plt.xlabel('Time')\n",
    "plt.ylabel('Heart Rate (BPM)')\n",
    "plt.xticks(np.array(xaxis)[:: int(len(xaxis) / 1)])\n",
    "plt.xticks(rotation=45)\n",
    "plt.tight_layout()\n",
    "\n",
    "plt.show()\n",
    "# plt.savefig('heart_rate_24hr.png')\n"
   ]
  },
  {
   "cell_type": "markdown",
   "metadata": {},
   "source": [
    "## Radial Plot"
   ]
  },
  {
   "cell_type": "code",
   "execution_count": 63,
   "metadata": {},
   "outputs": [
    {
     "data": {
      "image/png": "[encoded data removed]",
      "text/plain": [
       "<Figure size 1500x1500 with 1 Axes>"
      ]
     },
     "metadata": {},
     "output_type": "display_data"
    }
   ],
   "source": [
    "import numpy as np\n",
    "import pandas as pd\n",
    "import matplotlib.pyplot as plt\n",
    "\n",
    "timestamps = [datetime.datetime.fromtimestamp(x/1000).strftime(\"%H:%M:%S\") for x in np.array(heart_rate_data)[:,1]]\n",
    "heart_rates = np.array(heart_rate_data)[:,0]\n",
    "\n",
    "\n",
    "#----------------------------------------------------------------\n",
    "\n",
    "figure, ax = plt.subplots(subplot_kw={'projection': 'polar'}, figsize=(15, 15))\n",
    "\n",
    "angles = np.linspace(0, 2*np.pi, len(heart_rates))\n",
    "        \n",
    "norm = plt.Normalize(60, 100)\n",
    "colors = plt.cm.viridis(norm(heart_rates))\n",
    "\n",
    "ax.scatter(angles, heart_rates, c=colors, alpha=0.75)\n",
    "\n",
    "ax.set_theta_zero_location('N')  \n",
    "ax.set_theta_direction(-1)  \n",
    "\n",
    "ax.set_xticks(np.linspace(0, 2 * np.pi, 24, endpoint=False))\n",
    "ax.set_xticklabels(np.array(timestamps)[np.linspace(0, len(timestamps), 24, endpoint=False).astype('int')])\n",
    "\n",
    "ax.set_ylim(0, max(heart_rates) + 10)\n",
    "ax.set_yticks(np.linspace(0, max(heart_rates), 5))\n",
    "ax.set_yticklabels([f\"{int(i)} BPM\" for i in np.linspace(0, max(heart_rates), 5)])\n",
    "ax.set_title('Heart Rate Monitoring Viz', va='bottom')\n",
    "ax.grid(True)"
   ]
  },
  {
   "cell_type": "markdown",
   "metadata": {},
   "source": [
    "## Interactive Visualization"
   ]
  },
  {
   "cell_type": "code",
   "execution_count": 18,
   "metadata": {},
   "outputs": [
    {
     "data": {
      "application/vnd.plotly.v1+json": {
       "config": {
        "plotlyServerURL": "https://plot.ly"
       },
       "data": [
        {
         "hoverinfo": "y",
         "line": {
          "width": 1
         },
         "marker": {
          "size": 5
         },
         "mode": "lines+markers",
         "type": "scatter",
         "x": [
          "21:11:54",
          "21:12:54",
          "21:13:54",
          "21:14:54",
          "21:15:54",
          "21:16:54",
          "21:17:54",
          "21:18:54",
          "21:19:54",
          "21:20:54",
          "21:21:54",
          "21:22:54",
          "21:23:54",
          "21:24:54",
          "21:25:54",
          "21:26:54",
          "21:27:54",
          "21:28:54",
          "21:29:54",
          "21:30:54",
          "21:31:54",
          "21:32:54",
          "21:33:54",
          "21:34:54",
          "21:35:54",
          "21:36:54",
          "21:37:54",
          "21:38:54",
          "21:39:54",
          "21:40:54",
          "21:41:54",
          "21:42:54",
          "21:43:54",
          "21:44:54",
          "21:45:54",
          "21:46:54",
          "21:47:54",
          "21:48:54",
          "21:49:54",
          "21:50:54",
          "21:51:54",
          "21:52:54",
          "21:53:54",
          "21:54:54",
          "21:55:54",
          "21:56:54",
          "21:57:54",
          "21:58:54",
          "21:59:54",
          "22:00:54",
          "22:01:54",
          "22:02:54",
          "22:03:54",
          "22:04:54",
          "22:05:54",
          "22:06:54",
          "22:07:54",
          "22:08:54",
          "22:09:54",
          "22:10:54",
          "22:11:54",
          "22:12:54",
          "22:13:54",
          "22:14:54",
          "22:15:54",
          "22:16:54",
          "22:17:54",
          "22:18:54",
          "22:19:54",
          "22:20:54",
          "22:21:54",
          "22:22:54",
          "22:23:54",
          "22:24:54",
          "22:25:54",
          "22:26:54",
          "22:27:54",
          "22:28:54",
          "22:29:54",
          "22:30:54",
          "22:31:54",
          "22:32:54",
          "22:33:54",
          "22:34:54",
          "22:35:54",
          "22:36:54",
          "22:37:54",
          "22:38:54",
          "22:39:54",
          "22:40:54",
          "22:41:54",
          "22:42:54",
          "22:43:54",
          "22:44:54",
          "22:45:54",
          "22:46:54",
          "22:47:54",
          "22:48:54",
          "22:49:54",
          "22:50:54",
          "22:51:54",
          "22:52:54",
          "22:53:54",
          "22:54:54",
          "22:55:54",
          "22:56:54",
          "22:57:54",
          "22:58:54",
          "22:59:54",
          "23:00:54",
          "23:01:54",
          "23:02:54",
          "23:03:54",
          "23:04:54",
          "23:05:54",
          "23:06:54",
          "23:07:54",
          "23:08:54",
          "23:09:54",
          "23:10:54",
          "23:11:54",
          "23:12:54",
          "23:13:54",
          "23:14:54",
          "23:15:54",
          "23:16:54",
          "23:17:54",
          "23:18:54",
          "23:19:54",
          "23:20:54",
          "23:21:54",
          "23:22:54",
          "23:23:54",
          "23:24:54",
          "23:25:54",
          "23:26:54",
          "23:27:54",
          "23:28:54",
          "23:29:54",
          "23:30:54",
          "23:31:54",
          "23:32:54",
          "23:33:54",
          "23:34:54",
          "23:35:54",
          "23:36:54",
          "23:37:54",
          "23:38:54",
          "23:39:54",
          "23:40:54",
          "23:41:54",
          "23:42:54",
          "23:43:54",
          "23:44:54",
          "23:45:54",
          "23:46:54",
          "23:47:54",
          "23:48:54",
          "23:49:54",
          "23:50:54",
          "23:51:54",
          "23:52:54",
          "23:53:54",
          "23:54:54",
          "23:55:54",
          "23:56:54",
          "23:57:54",
          "23:58:54",
          "23:59:54",
          "00:00:54",
          "00:01:54",
          "00:02:54",
          "00:03:54",
          "00:04:54",
          "00:05:54",
          "00:06:54",
          "00:07:54",
          "00:08:54",
          "00:09:54",
          "00:10:54",
          "00:11:54",
          "00:12:54",
          "00:13:54",
          "00:14:54",
          "00:15:54",
          "00:16:54",
          "00:17:54",
          "00:18:54",
          "00:19:54",
          "00:20:54",
          "00:21:54",
          "00:22:54",
          "00:23:54",
          "00:24:54",
          "00:25:54",
          "00:26:54",
          "00:27:54",
          "00:28:54",
          "00:29:54",
          "00:30:54",
          "00:31:54",
          "00:32:54",
          "00:33:54",
          "00:34:54",
          "00:35:54",
          "00:36:54",
          "00:37:54",
          "00:38:54",
          "00:39:54",
          "00:40:54",
          "00:41:54",
          "00:42:54",
          "00:43:54",
          "00:44:54",
          "00:45:54",
          "00:46:54",
          "00:47:54",
          "00:48:54",
          "00:49:54",
          "00:50:54",
          "00:51:54",
          "00:52:54",
          "00:53:54",
          "00:54:54",
          "00:55:54",
          "00:56:54",
          "00:57:54",
          "00:58:54",
          "00:59:54",
          "01:00:54",
          "01:01:54",
          "01:02:54",
          "01:03:54",
          "01:04:54",
          "01:05:54",
          "01:06:54",
          "01:07:54",
          "01:08:54",
          "01:09:54",
          "01:10:54",
          "01:11:54",
          "01:12:54",
          "01:13:54",
          "01:14:54",
          "01:15:54",
          "01:16:54",
          "01:17:54",
          "01:18:54",
          "01:19:54",
          "01:20:54",
          "01:21:54",
          "01:22:54",
          "01:23:54",
          "01:24:54",
          "01:25:54",
          "01:26:54",
          "01:27:54",
          "01:28:54",
          "01:29:54",
          "01:30:54",
          "01:31:54",
          "01:32:54",
          "01:33:54",
          "01:34:54",
          "01:35:54",
          "01:36:54",
          "01:37:54",
          "01:38:54",
          "01:39:54",
          "01:40:54",
          "01:41:54",
          "01:42:54",
          "01:43:54",
          "01:44:54",
          "01:45:54",
          "01:46:54",
          "01:47:54",
          "01:48:54",
          "01:49:54",
          "01:50:54",
          "01:51:54",
          "01:52:54",
          "01:53:54",
          "01:54:54",
          "01:55:54",
          "01:56:54",
          "01:57:54",
          "01:58:54",
          "01:59:54",
          "02:00:54",
          "02:01:54",
          "02:02:54",
          "02:03:54",
          "02:04:54",
          "02:05:54",
          "02:06:54",
          "02:07:54",
          "02:08:54",
          "02:09:54",
          "02:10:54",
          "02:11:54",
          "02:12:54",
          "02:13:54",
          "02:14:54",
          "02:15:54",
          "02:16:54",
          "02:17:54",
          "02:18:54",
          "02:19:54",
          "02:20:54",
          "02:21:54",
          "02:22:54",
          "02:23:54",
          "02:24:54",
          "02:25:54",
          "02:26:54",
          "02:27:54",
          "02:28:54",
          "02:29:54",
          "02:30:54",
          "02:31:54",
          "02:32:54",
          "02:33:54",
          "02:34:54",
          "02:35:54",
          "02:36:54",
          "02:37:54",
          "02:38:54",
          "02:39:54",
          "02:40:54",
          "02:41:54",
          "02:42:54",
          "02:43:54",
          "02:44:54",
          "02:45:54",
          "02:46:54",
          "02:47:54",
          "02:48:54",
          "02:49:54",
          "02:50:54",
          "02:51:54",
          "02:52:54",
          "02:53:54",
          "02:54:54",
          "02:55:54",
          "02:56:54",
          "02:57:54",
          "02:58:54",
          "02:59:54",
          "03:00:54",
          "03:01:54",
          "03:02:54",
          "03:03:54",
          "03:04:54",
          "03:05:54",
          "03:06:54",
          "03:07:54",
          "03:08:54",
          "03:09:54",
          "03:10:54",
          "03:11:54",
          "03:12:54",
          "03:13:54",
          "03:14:54",
          "03:15:54",
          "03:16:54",
          "03:17:54",
          "03:18:54",
          "03:19:54",
          "03:20:54",
          "03:21:54",
          "03:22:54",
          "03:23:54",
          "03:24:54",
          "03:25:54",
          "03:26:54",
          "03:27:54",
          "03:28:54",
          "03:29:54",
          "03:30:54",
          "03:31:54",
          "03:32:54",
          "03:33:54",
          "03:34:54",
          "03:35:54",
          "03:36:54",
          "03:37:54",
          "03:38:54",
          "03:39:54",
          "03:40:54",
          "03:41:54",
          "03:42:54",
          "03:43:54",
          "03:44:54",
          "03:45:54",
          "03:46:54",
          "03:47:54",
          "03:48:54",
          "03:49:54",
          "03:50:54",
          "03:51:54",
          "03:52:54",
          "03:53:54",
          "03:54:54",
          "03:55:54",
          "03:56:54",
          "03:57:54",
          "03:58:54",
          "03:59:54",
          "04:00:54",
          "04:01:54",
          "04:02:54",
          "04:03:54",
          "04:04:54",
          "04:05:54",
          "04:06:54",
          "04:07:54",
          "04:08:54",
          "04:09:54",
          "04:10:54",
          "04:11:54",
          "04:12:54",
          "04:13:54",
          "04:14:54",
          "04:15:54",
          "04:16:54",
          "04:17:54",
          "04:18:54",
          "04:19:54",
          "04:20:54",
          "04:21:54",
          "04:22:54",
          "04:23:54",
          "04:24:54",
          "04:25:54",
          "04:26:54",
          "04:27:54",
          "04:28:54",
          "04:29:54",
          "04:30:54",
          "04:31:54",
          "04:32:54",
          "04:33:54",
          "04:34:54",
          "04:35:54",
          "04:36:54",
          "04:37:54",
          "04:38:54",
          "04:39:54",
          "04:40:54",
          "04:41:54",
          "04:42:54",
          "04:43:54",
          "04:44:54",
          "04:45:54",
          "04:46:54",
          "04:47:54",
          "04:48:54",
          "04:49:54",
          "04:50:54",
          "04:51:54",
          "04:52:54",
          "04:53:54",
          "04:54:54",
          "04:55:54",
          "04:56:54",
          "04:57:54",
          "04:58:54",
          "04:59:54",
          "05:00:54",
          "05:01:54",
          "05:02:54",
          "05:03:54",
          "05:04:54",
          "05:05:54",
          "05:06:54",
          "05:07:54",
          "05:08:54",
          "05:09:54",
          "05:10:54",
          "05:11:54",
          "05:12:54",
          "05:13:54",
          "05:14:54",
          "05:15:54",
          "05:16:54",
          "05:17:54",
          "05:18:54",
          "05:19:54",
          "05:20:54",
          "05:21:54",
          "05:22:54",
          "05:23:54",
          "05:24:54",
          "05:25:54",
          "05:26:54",
          "05:27:54",
          "05:28:54",
          "05:29:54",
          "05:30:54",
          "05:31:54",
          "05:32:54",
          "05:33:54",
          "05:34:54",
          "05:35:54",
          "05:36:54",
          "05:37:54",
          "05:38:54",
          "05:39:54",
          "05:40:54",
          "05:41:54",
          "05:42:54",
          "05:43:54",
          "05:44:54",
          "05:45:54",
          "05:46:54",
          "05:47:54",
          "05:48:54",
          "05:49:54",
          "05:50:54",
          "05:51:54",
          "05:52:54",
          "05:53:54",
          "05:54:54",
          "05:55:54",
          "05:56:54",
          "05:57:54",
          "05:58:54",
          "05:59:54",
          "06:00:54",
          "06:01:54",
          "06:02:54",
          "06:03:54",
          "06:04:54",
          "06:05:54",
          "06:06:54",
          "06:07:54",
          "06:08:54",
          "06:09:54",
          "06:10:54",
          "06:11:54",
          "06:12:54",
          "06:13:54",
          "06:14:54",
          "06:15:54",
          "06:16:54",
          "06:17:54",
          "06:18:54",
          "06:19:54",
          "06:20:54",
          "06:21:54",
          "06:22:54",
          "06:23:54",
          "06:24:54",
          "06:25:54",
          "06:26:54",
          "06:27:54",
          "06:28:54",
          "06:29:54",
          "06:30:54",
          "06:31:54",
          "06:32:54",
          "06:33:54",
          "06:34:54",
          "06:35:54",
          "06:36:54",
          "06:37:54",
          "06:38:54",
          "06:39:54",
          "06:40:54",
          "06:41:54",
          "06:42:54",
          "06:43:54",
          "06:44:54",
          "06:45:54",
          "06:46:54",
          "06:47:54",
          "06:48:54",
          "06:49:54",
          "06:50:54",
          "06:51:54",
          "06:52:54",
          "06:53:54",
          "06:54:54",
          "06:55:54",
          "06:56:54",
          "06:57:54",
          "06:58:54",
          "06:59:54",
          "07:00:54",
          "07:01:54",
          "07:02:54",
          "07:03:54",
          "07:04:54",
          "07:05:54",
          "07:06:54",
          "07:07:54",
          "07:08:54",
          "07:09:54",
          "07:10:54",
          "07:11:54",
          "07:12:54",
          "07:13:54",
          "07:14:54",
          "07:15:54",
          "07:16:54",
          "07:17:54",
          "07:18:54",
          "07:19:54",
          "07:20:54",
          "07:21:54",
          "07:22:54",
          "07:23:54",
          "07:24:54",
          "07:25:54",
          "07:26:54",
          "07:27:54",
          "07:28:54",
          "07:29:54",
          "07:30:54",
          "07:31:54",
          "07:32:54",
          "07:33:54",
          "07:34:54",
          "07:35:54",
          "07:36:54",
          "07:37:54",
          "07:38:54",
          "07:39:54",
          "07:40:54",
          "07:41:54",
          "07:42:54",
          "07:43:54",
          "07:44:54",
          "07:45:54",
          "07:46:54",
          "07:47:54",
          "07:48:54",
          "07:49:54",
          "07:50:54",
          "07:51:54",
          "07:52:54",
          "07:53:54",
          "07:54:54",
          "07:55:54",
          "07:56:54",
          "07:57:54",
          "07:58:54",
          "07:59:54",
          "08:00:54",
          "08:01:54",
          "08:02:54",
          "08:03:54",
          "08:04:54",
          "08:05:54",
          "08:06:54",
          "08:07:54",
          "08:08:54",
          "08:09:54",
          "08:10:54",
          "08:11:54",
          "08:12:54",
          "08:13:54",
          "08:14:54",
          "08:15:54",
          "08:16:54",
          "08:17:54",
          "08:18:54",
          "08:19:54",
          "08:20:54",
          "08:21:54",
          "08:22:54",
          "08:23:54",
          "08:24:54",
          "08:25:54",
          "08:26:54",
          "08:27:54",
          "08:28:54",
          "08:29:54",
          "08:30:54",
          "08:31:54",
          "08:32:54",
          "08:33:54",
          "08:34:54",
          "08:35:54",
          "08:36:54",
          "08:37:54",
          "08:38:54",
          "08:39:54",
          "08:40:54",
          "08:41:54",
          "08:42:54",
          "08:43:54",
          "08:44:54",
          "08:45:54",
          "08:46:54",
          "08:47:54",
          "08:48:54",
          "08:49:54",
          "08:50:54",
          "08:51:54",
          "08:52:54",
          "08:53:54",
          "08:54:54",
          "08:55:54",
          "08:56:54",
          "08:57:54",
          "08:58:54",
          "08:59:54",
          "09:00:54",
          "09:01:54",
          "09:02:54",
          "09:03:54",
          "09:04:54",
          "09:05:54",
          "09:06:54",
          "09:07:54",
          "09:08:54",
          "09:09:54"
         ],
         "y": [
          62.5,
          67.4,
          66.2,
          62.2,
          68.4,
          65.6,
          66.2,
          65.9,
          65.6,
          64.8,
          63.6,
          63.7,
          66.4,
          61.3,
          66.8,
          63.9,
          61.7,
          66.9,
          68.9,
          64.6,
          66.4,
          64.8,
          63.6,
          64.8,
          64.3,
          68,
          65.7,
          65.8,
          65.6,
          60.8,
          66.4,
          67.1,
          65.9,
          70.2,
          65.8,
          65.7,
          68,
          63.4,
          62.6,
          66,
          63.9,
          60.9,
          66.7,
          61.9,
          65.6,
          63,
          70.2,
          65,
          61.4,
          68.2,
          64.1,
          58.6,
          67.5,
          63.8,
          62.6,
          65.6,
          70.6,
          65.8,
          62.9,
          62.9,
          64.5,
          67.7,
          68.6,
          68.8,
          65.3,
          63.4,
          62.8,
          70.1,
          65.8,
          64.7,
          63.3,
          63.1,
          68.4,
          64,
          65.4,
          68.4,
          70.4,
          64.9,
          70.7,
          65.7,
          67.4,
          62.8,
          62.6,
          65.1,
          65.1,
          59.1,
          65.6,
          66.6,
          69.6,
          65.5,
          64.7,
          67.2,
          69.8,
          68,
          60.9,
          63.7,
          64.9,
          69.2,
          67,
          62.7,
          66.3,
          61.7,
          63.9,
          66.2,
          61.8,
          68,
          67.5,
          72.5,
          60.4,
          62.8,
          69.6,
          66.6,
          66.8,
          62.8,
          60.8,
          62.6,
          74.8,
          66.6,
          64,
          68.8,
          62.4,
          69.6,
          64.6,
          64.4,
          62,
          60.7,
          65,
          61.9,
          60.7,
          56.7,
          70.8,
          64.2,
          61.1,
          63.1,
          62.2,
          64.6,
          68.4,
          64.8,
          66.7,
          67.6,
          67.6,
          57.6,
          64.5,
          65.2,
          63.6,
          59.6,
          62.2,
          64.3,
          67.2,
          63.4,
          65.7,
          66,
          66.2,
          60.9,
          61.8,
          65.8,
          63.9,
          59.8,
          66.2,
          64.4,
          66,
          62.4,
          61.2,
          61.3,
          62.8,
          62.5,
          67.6,
          67.9,
          62.2,
          65.5,
          66.2,
          65.5,
          69.2,
          61.7,
          63.6,
          67.5,
          62.4,
          65.1,
          64.5,
          71.9,
          65.7,
          66.1,
          65.7,
          64.1,
          64.5,
          63.4,
          62.7,
          62.4,
          59.6,
          63.8,
          70.3,
          65.3,
          59.1,
          64.5,
          62.7,
          64.4,
          68.2,
          66.7,
          63.6,
          60,
          61.8,
          70.1,
          65.6,
          66.7,
          67.2,
          66,
          63.3,
          63.2,
          64.3,
          63.9,
          64,
          66,
          64.9,
          63.3,
          61.9,
          65.1,
          66.2,
          64.4,
          64.4,
          61.2,
          63.5,
          63.1,
          65.4,
          69.8,
          65.1,
          68.2,
          65.5,
          66,
          62.1,
          62.6,
          64.7,
          62.8,
          62.1,
          68,
          62.7,
          59.4,
          68.4,
          65.4,
          61.7,
          61.8,
          63.6,
          62.4,
          64.7,
          61.2,
          60.8,
          63.5,
          66,
          61.7,
          61.4,
          67.6,
          68.4,
          67.4,
          61.5,
          62.6,
          61.2,
          71.2,
          63.2,
          74,
          64.1,
          59.9,
          64.4,
          69.2,
          65.6,
          64.6,
          61,
          65.4,
          63,
          59.7,
          61.4,
          65.4,
          65,
          62.2,
          62.4,
          64.4,
          65.3,
          66.3,
          68.3,
          63.4,
          62.3,
          66.9,
          64.3,
          63.2,
          62.7,
          64.8,
          65.7,
          67.2,
          69.4,
          65.8,
          57.6,
          63.6,
          63,
          64.6,
          62.4,
          65.4,
          61.1,
          65.1,
          67,
          65.3,
          66,
          66.1,
          61.5,
          66.2,
          67.5,
          60.8,
          67,
          65.3,
          63,
          67.6,
          57.3,
          60.2,
          64.4,
          66.6,
          59.6,
          62.8,
          66.8,
          68.3,
          59.9,
          61.9,
          68.8,
          61.3,
          61.7,
          65.7,
          63.1,
          65.5,
          64,
          65,
          59.3,
          64.1,
          64.1,
          63.3,
          60.4,
          60.4,
          64.5,
          65.6,
          66.2,
          68.8,
          69.4,
          62.7,
          63.7,
          61.2,
          62.7,
          60.7,
          64.1,
          65,
          66.6,
          65,
          70.8,
          58.1,
          65.6,
          57.6,
          61.9,
          63.3,
          65,
          61.2,
          67,
          68.2,
          67.4,
          61.4,
          65.2,
          68.6,
          65.3,
          64,
          66.6,
          66.7,
          69.4,
          59.7,
          68,
          67.4,
          68.8,
          59,
          67.2,
          57,
          62,
          68,
          61.5,
          68,
          64.2,
          68.4,
          66.4,
          63.7,
          62,
          65,
          65.2,
          64.2,
          64.6,
          64.7,
          64.1,
          63.4,
          66.6,
          72.1,
          65.2,
          66.7,
          69,
          64.2,
          59.6,
          66.4,
          60.5,
          60.1,
          61.9,
          61.4,
          64.7,
          59.8,
          67.1,
          64.8,
          68.2,
          64.8,
          63.6,
          58.3,
          62.8,
          65.7,
          58.8,
          61.8,
          65.5,
          69.2,
          67.6,
          63.1,
          69.2,
          62.9,
          64.4,
          70.6,
          65,
          60.5,
          64.1,
          64.9,
          64.2,
          69.7,
          59.8,
          65.4,
          63.5,
          62.2,
          65.1,
          66.2,
          67.8,
          64,
          64.8,
          68,
          59.6,
          69,
          64,
          67.7,
          69,
          64.5,
          63.3,
          67.6,
          64,
          61.7,
          63.6,
          65.8,
          65.8,
          64.9,
          65,
          62.6,
          70.4,
          62.4,
          63.1,
          66.7,
          66,
          57.3,
          64.4,
          64.9,
          64.3,
          63.8,
          59,
          64.5,
          66.2,
          65,
          66.8,
          61,
          65.1,
          65.6,
          64.3,
          67.2,
          67,
          61.4,
          62.8,
          66.9,
          63.5,
          62.8,
          64.7,
          65.7,
          60.8,
          65,
          62.2,
          66.5,
          66.2,
          64.2,
          58.2,
          64.4,
          66.2,
          61.2,
          65.4,
          66,
          66.4,
          66.2,
          62.7,
          65.3,
          63.2,
          64,
          63.6,
          63.2,
          63.8,
          60.8,
          66.8,
          68,
          69.8,
          62.4,
          64.2,
          67.8,
          64.2,
          61.2,
          67,
          61.7,
          64.7,
          65.9,
          59.1,
          65.9,
          66.4,
          63.1,
          63.9,
          64.1,
          71.1,
          64.1,
          62.2,
          63.1,
          61.7,
          64,
          61.6,
          64.7,
          58.6,
          64.6,
          64.5,
          60.9,
          63.4,
          61.9,
          64.7,
          61.5,
          67.6,
          66.2,
          67.2,
          63.9,
          67.5,
          71.6,
          67.8,
          68.7,
          62.6,
          61.8,
          65.6,
          66.8,
          56.4,
          61.8,
          67.4,
          64.9,
          65.2,
          62.9,
          69.3,
          66.5,
          72.2,
          62.6,
          59.4,
          66.1,
          63.2,
          61.1,
          62.6,
          63.6,
          65.6,
          65.9,
          63.7,
          67,
          66.1,
          62.8,
          67.1,
          64.3,
          67.1,
          66,
          59.6,
          63.5,
          61.1,
          66,
          68,
          63.2,
          63.4,
          64.4,
          65.3,
          62.5,
          62.7,
          63.6,
          61.6,
          64.9,
          58.2,
          67.2,
          64.4,
          60.3,
          64.5,
          65.2,
          65.6,
          56.8,
          65.4,
          62.5,
          67.9,
          68.1,
          61.2,
          64.1,
          65.4,
          67.2,
          64,
          59.5,
          64.7,
          60.8,
          64.4,
          68.8,
          65.8,
          63.6,
          67.4,
          67,
          65.4,
          59,
          63.1,
          71,
          61.9,
          67.6,
          68.2,
          64.6,
          60.6,
          64.2,
          66.4,
          64,
          61.2,
          62.3,
          67,
          66,
          67,
          62.2,
          66.3,
          71.5,
          62.6,
          63.3,
          67.2,
          66.4,
          64.9,
          68.2,
          60.2,
          63.8,
          65.5,
          64.5,
          60.4,
          60.5,
          68.6,
          66.4,
          61.2,
          63,
          69.6,
          65.1,
          63.2,
          63.9,
          59.4,
          64.2,
          62.1,
          68.1,
          63.8,
          64.2,
          66.8,
          66.3,
          64.5,
          65,
          66,
          60.6,
          61.2,
          66,
          62.4,
          67.6,
          67,
          66.1,
          68.1,
          64.1,
          65.7,
          67.5,
          69,
          63.8,
          66.2,
          70.4,
          66.2,
          61.8,
          60.4,
          58.8,
          65,
          63.3,
          63.5,
          69.3,
          68.3,
          66.6,
          61.8,
          61.6,
          64.9,
          66.6,
          62.7,
          64.6,
          66.8,
          63.2,
          69.3,
          63.4,
          63.4,
          63.2,
          70,
          63.6,
          61.7,
          68.2,
          64.6,
          61.3,
          69.8,
          64.7,
          64.5,
          70.7,
          60.2,
          66.6,
          67.4,
          67.4,
          65.9,
          69,
          59.3
         ]
        }
       ],
       "layout": {
        "hovermode": "x",
        "template": {
         "data": {
          "bar": [
           {
            "error_x": {
             "color": "#2a3f5f"
            },
            "error_y": {
             "color": "#2a3f5f"
            },
            "marker": {
             "line": {
              "color": "#E5ECF6",
              "width": 0.5
             },
             "pattern": {
              "fillmode": "overlay",
              "size": 10,
              "solidity": 0.2
             }
            },
            "type": "bar"
           }
          ],
          "barpolar": [
           {
            "marker": {
             "line": {
              "color": "#E5ECF6",
              "width": 0.5
             },
             "pattern": {
              "fillmode": "overlay",
              "size": 10,
              "solidity": 0.2
             }
            },
            "type": "barpolar"
           }
          ],
          "carpet": [
           {
            "aaxis": {
             "endlinecolor": "#2a3f5f",
             "gridcolor": "white",
             "linecolor": "white",
             "minorgridcolor": "white",
             "startlinecolor": "#2a3f5f"
            },
            "baxis": {
             "endlinecolor": "#2a3f5f",
             "gridcolor": "white",
             "linecolor": "white",
             "minorgridcolor": "white",
             "startlinecolor": "#2a3f5f"
            },
            "type": "carpet"
           }
          ],
          "choropleth": [
           {
            "colorbar": {
             "outlinewidth": 0,
             "ticks": ""
            },
            "type": "choropleth"
           }
          ],
          "contour": [
           {
            "colorbar": {
             "outlinewidth": 0,
             "ticks": ""
            },
            "colorscale": [
             [
              0,
              "#0d0887"
             ],
             [
              0.1111111111111111,
              "#46039f"
             ],
             [
              0.2222222222222222,
              "#7201a8"
             ],
             [
              0.3333333333333333,
              "#9c179e"
             ],
             [
              0.4444444444444444,
              "#bd3786"
             ],
             [
              0.5555555555555556,
              "#d8576b"
             ],
             [
              0.6666666666666666,
              "#ed7953"
             ],
             [
              0.7777777777777778,
              "#fb9f3a"
             ],
             [
              0.8888888888888888,
              "#fdca26"
             ],
             [
              1,
              "#f0f921"
             ]
            ],
            "type": "contour"
           }
          ],
          "contourcarpet": [
           {
            "colorbar": {
             "outlinewidth": 0,
             "ticks": ""
            },
            "type": "contourcarpet"
           }
          ],
          "heatmap": [
           {
            "colorbar": {
             "outlinewidth": 0,
             "ticks": ""
            },
            "colorscale": [
             [
              0,
              "#0d0887"
             ],
             [
              0.1111111111111111,
              "#46039f"
             ],
             [
              0.2222222222222222,
              "#7201a8"
             ],
             [
              0.3333333333333333,
              "#9c179e"
             ],
             [
              0.4444444444444444,
              "#bd3786"
             ],
             [
              0.5555555555555556,
              "#d8576b"
             ],
             [
              0.6666666666666666,
              "#ed7953"
             ],
             [
              0.7777777777777778,
              "#fb9f3a"
             ],
             [
              0.8888888888888888,
              "#fdca26"
             ],
             [
              1,
              "#f0f921"
             ]
            ],
            "type": "heatmap"
           }
          ],
          "heatmapgl": [
           {
            "colorbar": {
             "outlinewidth": 0,
             "ticks": ""
            },
            "colorscale": [
             [
              0,
              "#0d0887"
             ],
             [
              0.1111111111111111,
              "#46039f"
             ],
             [
              0.2222222222222222,
              "#7201a8"
             ],
             [
              0.3333333333333333,
              "#9c179e"
             ],
             [
              0.4444444444444444,
              "#bd3786"
             ],
             [
              0.5555555555555556,
              "#d8576b"
             ],
             [
              0.6666666666666666,
              "#ed7953"
             ],
             [
              0.7777777777777778,
              "#fb9f3a"
             ],
             [
              0.8888888888888888,
              "#fdca26"
             ],
             [
              1,
              "#f0f921"
             ]
            ],
            "type": "heatmapgl"
           }
          ],
          "histogram": [
           {
            "marker": {
             "pattern": {
              "fillmode": "overlay",
              "size": 10,
              "solidity": 0.2
             }
            },
            "type": "histogram"
           }
          ],
          "histogram2d": [
           {
            "colorbar": {
             "outlinewidth": 0,
             "ticks": ""
            },
            "colorscale": [
             [
              0,
              "#0d0887"
             ],
             [
              0.1111111111111111,
              "#46039f"
             ],
             [
              0.2222222222222222,
              "#7201a8"
             ],
             [
              0.3333333333333333,
              "#9c179e"
             ],
             [
              0.4444444444444444,
              "#bd3786"
             ],
             [
              0.5555555555555556,
              "#d8576b"
             ],
             [
              0.6666666666666666,
              "#ed7953"
             ],
             [
              0.7777777777777778,
              "#fb9f3a"
             ],
             [
              0.8888888888888888,
              "#fdca26"
             ],
             [
              1,
              "#f0f921"
             ]
            ],
            "type": "histogram2d"
           }
          ],
          "histogram2dcontour": [
           {
            "colorbar": {
             "outlinewidth": 0,
             "ticks": ""
            },
            "colorscale": [
             [
              0,
              "#0d0887"
             ],
             [
              0.1111111111111111,
              "#46039f"
             ],
             [
              0.2222222222222222,
              "#7201a8"
             ],
             [
              0.3333333333333333,
              "#9c179e"
             ],
             [
              0.4444444444444444,
              "#bd3786"
             ],
             [
              0.5555555555555556,
              "#d8576b"
             ],
             [
              0.6666666666666666,
              "#ed7953"
             ],
             [
              0.7777777777777778,
              "#fb9f3a"
             ],
             [
              0.8888888888888888,
              "#fdca26"
             ],
             [
              1,
              "#f0f921"
             ]
            ],
            "type": "histogram2dcontour"
           }
          ],
          "mesh3d": [
           {
            "colorbar": {
             "outlinewidth": 0,
             "ticks": ""
            },
            "type": "mesh3d"
           }
          ],
          "parcoords": [
           {
            "line": {
             "colorbar": {
              "outlinewidth": 0,
              "ticks": ""
             }
            },
            "type": "parcoords"
           }
          ],
          "pie": [
           {
            "automargin": true,
            "type": "pie"
           }
          ],
          "scatter": [
           {
            "marker": {
             "colorbar": {
              "outlinewidth": 0,
              "ticks": ""
             }
            },
            "type": "scatter"
           }
          ],
          "scatter3d": [
           {
            "line": {
             "colorbar": {
              "outlinewidth": 0,
              "ticks": ""
             }
            },
            "marker": {
             "colorbar": {
              "outlinewidth": 0,
              "ticks": ""
             }
            },
            "type": "scatter3d"
           }
          ],
          "scattercarpet": [
           {
            "marker": {
             "colorbar": {
              "outlinewidth": 0,
              "ticks": ""
             }
            },
            "type": "scattercarpet"
           }
          ],
          "scattergeo": [
           {
            "marker": {
             "colorbar": {
              "outlinewidth": 0,
              "ticks": ""
             }
            },
            "type": "scattergeo"
           }
          ],
          "scattergl": [
           {
            "marker": {
             "colorbar": {
              "outlinewidth": 0,
              "ticks": ""
             }
            },
            "type": "scattergl"
           }
          ],
          "scattermapbox": [
           {
            "marker": {
             "colorbar": {
              "outlinewidth": 0,
              "ticks": ""
             }
            },
            "type": "scattermapbox"
           }
          ],
          "scatterpolar": [
           {
            "marker": {
             "colorbar": {
              "outlinewidth": 0,
              "ticks": ""
             }
            },
            "type": "scatterpolar"
           }
          ],
          "scatterpolargl": [
           {
            "marker": {
             "colorbar": {
              "outlinewidth": 0,
              "ticks": ""
             }
            },
            "type": "scatterpolargl"
           }
          ],
          "scatterternary": [
           {
            "marker": {
             "colorbar": {
              "outlinewidth": 0,
              "ticks": ""
             }
            },
            "type": "scatterternary"
           }
          ],
          "surface": [
           {
            "colorbar": {
             "outlinewidth": 0,
             "ticks": ""
            },
            "colorscale": [
             [
              0,
              "#0d0887"
             ],
             [
              0.1111111111111111,
              "#46039f"
             ],
             [
              0.2222222222222222,
              "#7201a8"
             ],
             [
              0.3333333333333333,
              "#9c179e"
             ],
             [
              0.4444444444444444,
              "#bd3786"
             ],
             [
              0.5555555555555556,
              "#d8576b"
             ],
             [
              0.6666666666666666,
              "#ed7953"
             ],
             [
              0.7777777777777778,
              "#fb9f3a"
             ],
             [
              0.8888888888888888,
              "#fdca26"
             ],
             [
              1,
              "#f0f921"
             ]
            ],
            "type": "surface"
           }
          ],
          "table": [
           {
            "cells": {
             "fill": {
              "color": "#EBF0F8"
             },
             "line": {
              "color": "white"
             }
            },
            "header": {
             "fill": {
              "color": "#C8D4E3"
             },
             "line": {
              "color": "white"
             }
            },
            "type": "table"
           }
          ]
         },
         "layout": {
          "annotationdefaults": {
           "arrowcolor": "#2a3f5f",
           "arrowhead": 0,
           "arrowwidth": 1
          },
          "autotypenumbers": "strict",
          "coloraxis": {
           "colorbar": {
            "outlinewidth": 0,
            "ticks": ""
           }
          },
          "colorscale": {
           "diverging": [
            [
             0,
             "#8e0152"
            ],
            [
             0.1,
             "#c51b7d"
            ],
            [
             0.2,
             "#de77ae"
            ],
            [
             0.3,
             "#f1b6da"
            ],
            [
             0.4,
             "#fde0ef"
            ],
            [
             0.5,
             "#f7f7f7"
            ],
            [
             0.6,
             "#e6f5d0"
            ],
            [
             0.7,
             "#b8e186"
            ],
            [
             0.8,
             "#7fbc41"
            ],
            [
             0.9,
             "#4d9221"
            ],
            [
             1,
             "#276419"
            ]
           ],
           "sequential": [
            [
             0,
             "#0d0887"
            ],
            [
             0.1111111111111111,
             "#46039f"
            ],
            [
             0.2222222222222222,
             "#7201a8"
            ],
            [
             0.3333333333333333,
             "#9c179e"
            ],
            [
             0.4444444444444444,
             "#bd3786"
            ],
            [
             0.5555555555555556,
             "#d8576b"
            ],
            [
             0.6666666666666666,
             "#ed7953"
            ],
            [
             0.7777777777777778,
             "#fb9f3a"
            ],
            [
             0.8888888888888888,
             "#fdca26"
            ],
            [
             1,
             "#f0f921"
            ]
           ],
           "sequentialminus": [
            [
             0,
             "#0d0887"
            ],
            [
             0.1111111111111111,
             "#46039f"
            ],
            [
             0.2222222222222222,
             "#7201a8"
            ],
            [
             0.3333333333333333,
             "#9c179e"
            ],
            [
             0.4444444444444444,
             "#bd3786"
            ],
            [
             0.5555555555555556,
             "#d8576b"
            ],
            [
             0.6666666666666666,
             "#ed7953"
            ],
            [
             0.7777777777777778,
             "#fb9f3a"
            ],
            [
             0.8888888888888888,
             "#fdca26"
            ],
            [
             1,
             "#f0f921"
            ]
           ]
          },
          "colorway": [
           "#636efa",
           "#EF553B",
           "#00cc96",
           "#ab63fa",
           "#FFA15A",
           "#19d3f3",
           "#FF6692",
           "#B6E880",
           "#FF97FF",
           "#FECB52"
          ],
          "font": {
           "color": "#2a3f5f"
          },
          "geo": {
           "bgcolor": "white",
           "lakecolor": "white",
           "landcolor": "#E5ECF6",
           "showlakes": true,
           "showland": true,
           "subunitcolor": "white"
          },
          "hoverlabel": {
           "align": "left"
          },
          "hovermode": "closest",
          "mapbox": {
           "style": "light"
          },
          "paper_bgcolor": "white",
          "plot_bgcolor": "#E5ECF6",
          "polar": {
           "angularaxis": {
            "gridcolor": "white",
            "linecolor": "white",
            "ticks": ""
           },
           "bgcolor": "#E5ECF6",
           "radialaxis": {
            "gridcolor": "white",
            "linecolor": "white",
            "ticks": ""
           }
          },
          "scene": {
           "xaxis": {
            "backgroundcolor": "#E5ECF6",
            "gridcolor": "white",
            "gridwidth": 2,
            "linecolor": "white",
            "showbackground": true,
            "ticks": "",
            "zerolinecolor": "white"
           },
           "yaxis": {
            "backgroundcolor": "#E5ECF6",
            "gridcolor": "white",
            "gridwidth": 2,
            "linecolor": "white",
            "showbackground": true,
            "ticks": "",
            "zerolinecolor": "white"
           },
           "zaxis": {
            "backgroundcolor": "#E5ECF6",
            "gridcolor": "white",
            "gridwidth": 2,
            "linecolor": "white",
            "showbackground": true,
            "ticks": "",
            "zerolinecolor": "white"
           }
          },
          "shapedefaults": {
           "line": {
            "color": "#2a3f5f"
           }
          },
          "ternary": {
           "aaxis": {
            "gridcolor": "white",
            "linecolor": "white",
            "ticks": ""
           },
           "baxis": {
            "gridcolor": "white",
            "linecolor": "white",
            "ticks": ""
           },
           "bgcolor": "#E5ECF6",
           "caxis": {
            "gridcolor": "white",
            "linecolor": "white",
            "ticks": ""
           }
          },
          "title": {
           "x": 0.05
          },
          "xaxis": {
           "automargin": true,
           "gridcolor": "white",
           "linecolor": "white",
           "ticks": "",
           "title": {
            "standoff": 15
           },
           "zerolinecolor": "white",
           "zerolinewidth": 2
          },
          "yaxis": {
           "automargin": true,
           "gridcolor": "white",
           "linecolor": "white",
           "ticks": "",
           "title": {
            "standoff": 15
           },
           "zerolinecolor": "white",
           "zerolinewidth": 2
          }
         }
        },
        "title": {
         "text": "24-hour Heart Rate Timeline"
        },
        "xaxis": {
         "rangeslider": {
          "thickness": 0.1,
          "visible": true
         },
         "title": {
          "text": "Time"
         },
         "type": "category"
        },
        "yaxis": {
         "fixedrange": false,
         "title": {
          "text": "Heart Rate (bpm)"
         }
        }
       }
      }
     },
     "metadata": {},
     "output_type": "display_data"
    }
   ],
   "source": [
    "import plotly.graph_objects as go\n",
    "\n",
    "fig = go.Figure()\n",
    "\n",
    "fig.add_trace(go.Scatter(x=timestamps, y=heart_rates, mode='lines+markers',\n",
    "                         hoverinfo='y', marker=dict(size=5),\n",
    "                         line=dict(width=1)))\n",
    "\n",
    "\n",
    "fig.update_layout(\n",
    "    title='24-hour Heart Rate Timeline',\n",
    "    xaxis_title='Time',\n",
    "    yaxis_title='Heart Rate (bpm)',\n",
    "    hovermode='x',\n",
    "    xaxis=dict(\n",
    "        rangeslider=dict(\n",
    "            visible=True,\n",
    "            thickness=0.1\n",
    "        ),\n",
    "        type='category'\n",
    "    ),\n",
    "    yaxis=dict(\n",
    "        fixedrange=False\n",
    "    )\n",
    ")\n",
    "\n",
    "fig.show()\n"
   ]
  },
  {
   "cell_type": "code",
   "execution_count": null,
   "metadata": {},
   "outputs": [],
   "source": []
  }
 ],
 "metadata": {
  "kernelspec": {
   "display_name": "base",
   "language": "python",
   "name": "python3"
  },
  "language_info": {
   "codemirror_mode": {
    "name": "ipython",
    "version": 3
   },
   "file_extension": ".py",
   "mimetype": "text/x-python",
   "name": "python",
   "nbconvert_exporter": "python",
   "pygments_lexer": "ipython3",
   "version": "3.11.5"
  }
 },
 "nbformat": 4,
 "nbformat_minor": 2
}
